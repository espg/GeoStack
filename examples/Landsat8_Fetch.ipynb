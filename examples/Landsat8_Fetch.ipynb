{
 "cells": [
  {
   "cell_type": "code",
   "execution_count": 2,
   "metadata": {},
   "outputs": [],
   "source": [
    "from sklearn.neighbors import BallTree\n",
    "import pandas as pd\n",
    "import numpy as np"
   ]
  },
  {
   "cell_type": "code",
   "execution_count": 3,
   "metadata": {},
   "outputs": [],
   "source": [
    "ls8 = pd.read_csv('./LS8.csv')"
   ]
  },
  {
   "cell_type": "code",
   "execution_count": 4,
   "metadata": {},
   "outputs": [
    {
     "data": {
      "text/html": [
       "<div>\n",
       "<style scoped>\n",
       "    .dataframe tbody tr th:only-of-type {\n",
       "        vertical-align: middle;\n",
       "    }\n",
       "\n",
       "    .dataframe tbody tr th {\n",
       "        vertical-align: top;\n",
       "    }\n",
       "\n",
       "    .dataframe thead th {\n",
       "        text-align: right;\n",
       "    }\n",
       "</style>\n",
       "<table border=\"1\" class=\"dataframe\">\n",
       "  <thead>\n",
       "    <tr style=\"text-align: right;\">\n",
       "      <th></th>\n",
       "      <th>name</th>\n",
       "      <th>path</th>\n",
       "      <th>row</th>\n",
       "      <th>lat</th>\n",
       "      <th>lon</th>\n",
       "      <th>lat_UL</th>\n",
       "      <th>lon_UL</th>\n",
       "      <th>lat_UR</th>\n",
       "      <th>lon_UR</th>\n",
       "      <th>lat_LL</th>\n",
       "      <th>lon_LL</th>\n",
       "      <th>lat_LR</th>\n",
       "      <th>lon_LR</th>\n",
       "    </tr>\n",
       "  </thead>\n",
       "  <tbody>\n",
       "    <tr>\n",
       "      <th>0</th>\n",
       "      <td>16_122</td>\n",
       "      <td>16.0</td>\n",
       "      <td>122.0</td>\n",
       "      <td>-81.844418</td>\n",
       "      <td>176.043772</td>\n",
       "      <td>-80.929</td>\n",
       "      <td>-178.785</td>\n",
       "      <td>-82.680</td>\n",
       "      <td>-177.567</td>\n",
       "      <td>-80.929</td>\n",
       "      <td>170.873</td>\n",
       "      <td>-82.680</td>\n",
       "      <td>169.654</td>\n",
       "    </tr>\n",
       "    <tr>\n",
       "      <th>1</th>\n",
       "      <td>15_122</td>\n",
       "      <td>15.0</td>\n",
       "      <td>122.0</td>\n",
       "      <td>-81.844418</td>\n",
       "      <td>177.588836</td>\n",
       "      <td>-80.929</td>\n",
       "      <td>-177.240</td>\n",
       "      <td>-82.680</td>\n",
       "      <td>-176.021</td>\n",
       "      <td>-80.929</td>\n",
       "      <td>172.418</td>\n",
       "      <td>-82.680</td>\n",
       "      <td>171.199</td>\n",
       "    </tr>\n",
       "    <tr>\n",
       "      <th>2</th>\n",
       "      <td>14_122</td>\n",
       "      <td>14.0</td>\n",
       "      <td>122.0</td>\n",
       "      <td>-81.844418</td>\n",
       "      <td>179.133901</td>\n",
       "      <td>-80.929</td>\n",
       "      <td>-175.695</td>\n",
       "      <td>-82.680</td>\n",
       "      <td>-174.476</td>\n",
       "      <td>-80.929</td>\n",
       "      <td>173.963</td>\n",
       "      <td>-82.680</td>\n",
       "      <td>172.744</td>\n",
       "    </tr>\n",
       "    <tr>\n",
       "      <th>3</th>\n",
       "      <td>13_122</td>\n",
       "      <td>13.0</td>\n",
       "      <td>122.0</td>\n",
       "      <td>-81.844418</td>\n",
       "      <td>-179.321040</td>\n",
       "      <td>-80.929</td>\n",
       "      <td>-174.150</td>\n",
       "      <td>-82.680</td>\n",
       "      <td>-172.931</td>\n",
       "      <td>-80.929</td>\n",
       "      <td>175.508</td>\n",
       "      <td>-82.680</td>\n",
       "      <td>174.289</td>\n",
       "    </tr>\n",
       "    <tr>\n",
       "      <th>4</th>\n",
       "      <td>12_122</td>\n",
       "      <td>12.0</td>\n",
       "      <td>122.0</td>\n",
       "      <td>-81.844418</td>\n",
       "      <td>-177.775970</td>\n",
       "      <td>-80.929</td>\n",
       "      <td>-172.605</td>\n",
       "      <td>-82.680</td>\n",
       "      <td>-171.386</td>\n",
       "      <td>-80.929</td>\n",
       "      <td>177.053</td>\n",
       "      <td>-82.680</td>\n",
       "      <td>175.834</td>\n",
       "    </tr>\n",
       "    <tr>\n",
       "      <th>...</th>\n",
       "      <td>...</td>\n",
       "      <td>...</td>\n",
       "      <td>...</td>\n",
       "      <td>...</td>\n",
       "      <td>...</td>\n",
       "      <td>...</td>\n",
       "      <td>...</td>\n",
       "      <td>...</td>\n",
       "      <td>...</td>\n",
       "      <td>...</td>\n",
       "      <td>...</td>\n",
       "      <td>...</td>\n",
       "      <td>...</td>\n",
       "    </tr>\n",
       "    <tr>\n",
       "      <th>28552</th>\n",
       "      <td>124_247</td>\n",
       "      <td>124.0</td>\n",
       "      <td>247.0</td>\n",
       "      <td>81.718750</td>\n",
       "      <td>166.653724</td>\n",
       "      <td>82.696</td>\n",
       "      <td>171.759</td>\n",
       "      <td>80.942</td>\n",
       "      <td>172.726</td>\n",
       "      <td>82.387</td>\n",
       "      <td>159.443</td>\n",
       "      <td>80.691</td>\n",
       "      <td>162.631</td>\n",
       "    </tr>\n",
       "    <tr>\n",
       "      <th>28553</th>\n",
       "      <td>123_247</td>\n",
       "      <td>123.0</td>\n",
       "      <td>247.0</td>\n",
       "      <td>81.718750</td>\n",
       "      <td>168.198788</td>\n",
       "      <td>82.696</td>\n",
       "      <td>173.304</td>\n",
       "      <td>80.942</td>\n",
       "      <td>174.271</td>\n",
       "      <td>82.387</td>\n",
       "      <td>160.988</td>\n",
       "      <td>80.691</td>\n",
       "      <td>164.176</td>\n",
       "    </tr>\n",
       "    <tr>\n",
       "      <th>28554</th>\n",
       "      <td>122_247</td>\n",
       "      <td>122.0</td>\n",
       "      <td>247.0</td>\n",
       "      <td>81.718750</td>\n",
       "      <td>169.743853</td>\n",
       "      <td>82.696</td>\n",
       "      <td>174.850</td>\n",
       "      <td>80.942</td>\n",
       "      <td>175.816</td>\n",
       "      <td>82.387</td>\n",
       "      <td>162.533</td>\n",
       "      <td>80.691</td>\n",
       "      <td>165.721</td>\n",
       "    </tr>\n",
       "    <tr>\n",
       "      <th>28555</th>\n",
       "      <td>121_247</td>\n",
       "      <td>121.0</td>\n",
       "      <td>247.0</td>\n",
       "      <td>81.718750</td>\n",
       "      <td>171.288917</td>\n",
       "      <td>82.696</td>\n",
       "      <td>176.395</td>\n",
       "      <td>80.942</td>\n",
       "      <td>177.361</td>\n",
       "      <td>82.387</td>\n",
       "      <td>164.079</td>\n",
       "      <td>80.691</td>\n",
       "      <td>167.266</td>\n",
       "    </tr>\n",
       "    <tr>\n",
       "      <th>28556</th>\n",
       "      <td>120_247</td>\n",
       "      <td>120.0</td>\n",
       "      <td>247.0</td>\n",
       "      <td>81.718750</td>\n",
       "      <td>172.833982</td>\n",
       "      <td>82.696</td>\n",
       "      <td>177.940</td>\n",
       "      <td>80.942</td>\n",
       "      <td>178.906</td>\n",
       "      <td>82.387</td>\n",
       "      <td>165.624</td>\n",
       "      <td>80.691</td>\n",
       "      <td>168.811</td>\n",
       "    </tr>\n",
       "  </tbody>\n",
       "</table>\n",
       "<p>28557 rows × 13 columns</p>\n",
       "</div>"
      ],
      "text/plain": [
       "          name   path    row        lat         lon  lat_UL   lon_UL  lat_UR  \\\n",
       "0       16_122   16.0  122.0 -81.844418  176.043772 -80.929 -178.785 -82.680   \n",
       "1       15_122   15.0  122.0 -81.844418  177.588836 -80.929 -177.240 -82.680   \n",
       "2       14_122   14.0  122.0 -81.844418  179.133901 -80.929 -175.695 -82.680   \n",
       "3       13_122   13.0  122.0 -81.844418 -179.321040 -80.929 -174.150 -82.680   \n",
       "4       12_122   12.0  122.0 -81.844418 -177.775970 -80.929 -172.605 -82.680   \n",
       "...        ...    ...    ...        ...         ...     ...      ...     ...   \n",
       "28552  124_247  124.0  247.0  81.718750  166.653724  82.696  171.759  80.942   \n",
       "28553  123_247  123.0  247.0  81.718750  168.198788  82.696  173.304  80.942   \n",
       "28554  122_247  122.0  247.0  81.718750  169.743853  82.696  174.850  80.942   \n",
       "28555  121_247  121.0  247.0  81.718750  171.288917  82.696  176.395  80.942   \n",
       "28556  120_247  120.0  247.0  81.718750  172.833982  82.696  177.940  80.942   \n",
       "\n",
       "        lon_UR  lat_LL   lon_LL  lat_LR   lon_LR  \n",
       "0     -177.567 -80.929  170.873 -82.680  169.654  \n",
       "1     -176.021 -80.929  172.418 -82.680  171.199  \n",
       "2     -174.476 -80.929  173.963 -82.680  172.744  \n",
       "3     -172.931 -80.929  175.508 -82.680  174.289  \n",
       "4     -171.386 -80.929  177.053 -82.680  175.834  \n",
       "...        ...     ...      ...     ...      ...  \n",
       "28552  172.726  82.387  159.443  80.691  162.631  \n",
       "28553  174.271  82.387  160.988  80.691  164.176  \n",
       "28554  175.816  82.387  162.533  80.691  165.721  \n",
       "28555  177.361  82.387  164.079  80.691  167.266  \n",
       "28556  178.906  82.387  165.624  80.691  168.811  \n",
       "\n",
       "[28557 rows x 13 columns]"
      ]
     },
     "execution_count": 4,
     "metadata": {},
     "output_type": "execute_result"
    }
   ],
   "source": [
    "ls8"
   ]
  },
  {
   "cell_type": "code",
   "execution_count": 5,
   "metadata": {},
   "outputs": [
    {
     "data": {
      "text/plain": [
       "<AxesSubplot:>"
      ]
     },
     "execution_count": 5,
     "metadata": {},
     "output_type": "execute_result"
    },
    {
     "data": {
      "image/png": "[encoded data removed]",
      "text/plain": [
       "<Figure size 432x288 with 1 Axes>"
      ]
     },
     "metadata": {
      "needs_background": "light"
     },
     "output_type": "display_data"
    }
   ],
   "source": [
    "ls8.lat.plot()"
   ]
  },
  {
   "cell_type": "markdown",
   "metadata": {},
   "source": [
    "Simple case: Closest LS8 Scene\n",
    "----------------------------------------------\n",
    "\n",
    "Remember, lat/lon convention is opposite the expected ordering for spatial index structures, which are x/y"
   ]
  },
  {
   "cell_type": "code",
   "execution_count": 7,
   "metadata": {},
   "outputs": [
    {
     "data": {
      "text/plain": [
       "array([[176.043772, -81.844418],\n",
       "       [177.588836, -81.844418],\n",
       "       [179.133901, -81.844418],\n",
       "       ...,\n",
       "       [169.743853,  81.71875 ],\n",
       "       [171.288917,  81.71875 ],\n",
       "       [172.833982,  81.71875 ]])"
      ]
     },
     "execution_count": 7,
     "metadata": {},
     "output_type": "execute_result"
    }
   ],
   "source": [
    "LS_rad = np.vstack((ls8.lon.values,ls8.lat.values)).T\n",
    "LS_rad"
   ]
  },
  {
   "cell_type": "code",
   "execution_count": 8,
   "metadata": {},
   "outputs": [],
   "source": [
    "LS_rad *= np.pi/180"
   ]
  },
  {
   "cell_type": "code",
   "execution_count": 9,
   "metadata": {},
   "outputs": [],
   "source": [
    "LSBall = BallTree(LS_rad,metric='haversine')"
   ]
  },
  {
   "cell_type": "code",
   "execution_count": 10,
   "metadata": {},
   "outputs": [],
   "source": [
    "# not tested for arrays yet...\n",
    "def lquery(lat,lon):\n",
    "    q = np.array([[lon, lat]])\n",
    "    q *= np.pi/180.\n",
    "    idx = LSBall.query(q.reshape(1,-1),k=1,return_distance=False,breadth_first=True)\n",
    "    path = int(ls8.path.iloc[idx.flatten()].values)\n",
    "    row = int(ls8.row.iloc[idx.flatten()].values)\n",
    "    return path, row"
   ]
  },
  {
   "cell_type": "code",
   "execution_count": 11,
   "metadata": {},
   "outputs": [
    {
     "data": {
      "text/plain": [
       "(135, 9)"
      ]
     },
     "execution_count": 11,
     "metadata": {},
     "output_type": "execute_result"
    }
   ],
   "source": [
    "lquery(73.5, 120)"
   ]
  },
  {
   "cell_type": "code",
   "execution_count": null,
   "metadata": {},
   "outputs": [],
   "source": []
  }
 ],
 "metadata": {
  "kernelspec": {
   "display_name": "Python 3",
   "language": "python",
   "name": "python3"
  },
  "language_info": {
   "codemirror_mode": {
    "name": "ipython",
    "version": 3
   },
   "file_extension": ".py",
   "mimetype": "text/x-python",
   "name": "python",
   "nbconvert_exporter": "python",
   "pygments_lexer": "ipython3",
   "version": "3.8.5"
  }
 },
 "nbformat": 4,
 "nbformat_minor": 4
}
