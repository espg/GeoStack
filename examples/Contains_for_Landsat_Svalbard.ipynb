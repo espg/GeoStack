{
 "cells": [
  {
   "cell_type": "markdown",
   "metadata": {},
   "source": [
    "Let $C$ be the center point and $\\theta$ is the tilt angle there is a corresponding \"unit tangent vector\" to the sphere with that tilt. Call this vector $v$."
   ]
  },
  {
   "cell_type": "markdown",
   "metadata": {},
   "source": [
    "To move $C$ along $v$ a distance $D$ in a sphere of radius $R$ is something like\n",
    "\n",
    "$$\n",
    "P_1  = \\cos(A) \\cdot C + R\\cdot \\sin (A) \\cdot v\n",
    "$$\n",
    "where $A$ corresponds to 90km in radians. This is `midpt_1` in code below. Moving in the direction $-v$\n",
    "yields\n",
    "$$\n",
    "P_2  = \\cos(A) \\cdot C - R\\cdot \\sin (A) \\cdot v\n",
    "$$\n",
    "which is referred to as `midpt_2` below."
   ]
  },
  {
   "cell_type": "code",
   "execution_count": 1,
   "metadata": {},
   "outputs": [],
   "source": [
    "import numpy as np\n",
    "import functools \n",
    "lat_deg, lon_deg = 77.875, -20.975\n",
    "lat, lon, R, theta = lat_deg*(2*np.pi)/360, lon_deg*(2*np.pi)/360, 6371, -70 * 2 * np.pi / 360\n",
    "boulder_lat, boulder_lon = lat, lon\n",
    "x, y, z = (R * np.cos(lat) * np.sin(lon), R * np.cos(lat) * np.cos(lon), R * np.sin(lat))\n",
    "C = np.array([x,y,z])"
   ]
  },
  {
   "cell_type": "markdown",
   "metadata": {},
   "source": [
    "## Computing $v$ from $\\theta$\n",
    "\n",
    "At a point $C=[x,y,z]$, a tilt can be thought of as moving through lat and lon along a line with direction vector $d=(d_lon, d_lat)$, so we have \n",
    "in parameters $t$\n",
    "$$\n",
    "x(t), y(t), z(t) = (R * \\cos(lat_0 + t dlat) * \\cos(lon_0 + t dlon), R * \\cos(lat_0 + t dlat) * \\sin(lon_0 + t dlon), R * \\sin(lat_0 + t dlat))\n",
    "$$"
   ]
  },
  {
   "cell_type": "markdown",
   "metadata": {},
   "source": [
    "Differentiating with respect to $t$\n",
    "(ignoring the $R$ scaling as we want normalized $v$) we see $v$ is parallel\n",
    "to \n",
    "$$\n",
    "R\\cdot (-\\sin (lat_0) \\cos(lon_0) dlat - \\cos(lat_0) \\sin(lon_0) dlon, -\\sin(lat_0) \\sin(lon_0) dlat + \\cos(lat_0) \\cos(lon_0) dlon, \\cos(lat_0) dlat)\n",
    "$$"
   ]
  },
  {
   "cell_type": "code",
   "execution_count": 2,
   "metadata": {},
   "outputs": [
    {
     "data": {
      "text/plain": [
       "0.0"
      ]
     },
     "execution_count": 2,
     "metadata": {},
     "output_type": "execute_result"
    }
   ],
   "source": [
    "dlat, dlon = np.sin(theta), np.cos(theta)\n",
    "v = np.array([-np.sin(lat) * np.sin(lon) * dlat + np.cos(lat) * np.cos(lon) * dlon,\n",
    "              -np.sin(lat) * np.cos(lon) * dlat - np.cos(lat) * np.sin(lon) * dlon,\n",
    "              np.cos(lat) * dlat])\n",
    "v /= np.linalg.norm(v) \n",
    "np.sum(v*C)"
   ]
  },
  {
   "cell_type": "markdown",
   "metadata": {},
   "source": [
    "The angle $A$ is \n",
    "$$\n",
    "\\frac{A}{2\\pi} = \\frac{90km}{2 \\pi \\cdot 6371km}\n",
    "$$"
   ]
  },
  {
   "cell_type": "code",
   "execution_count": 3,
   "metadata": {},
   "outputs": [
    {
     "data": {
      "text/plain": [
       "0.014126510751844295"
      ]
     },
     "execution_count": 3,
     "metadata": {},
     "output_type": "execute_result"
    }
   ],
   "source": [
    "A = 90/R\n",
    "A"
   ]
  },
  {
   "cell_type": "code",
   "execution_count": 4,
   "metadata": {},
   "outputs": [
    {
     "data": {
      "text/plain": [
       "(89.9992516582193, 0.9999002225062911, 0.9999002225062912)"
      ]
     },
     "execution_count": 4,
     "metadata": {},
     "output_type": "execute_result"
    }
   ],
   "source": [
    "midpt_1 = np.cos(A) * C + R * np.sin(A) * v\n",
    "np.linalg.norm(midpt_1 - C), np.dot(midpt_1, C) / R**2, np.cos(A)"
   ]
  },
  {
   "cell_type": "markdown",
   "metadata": {},
   "source": [
    "To find next corner, we move $\\perp$ to $v$.\n",
    "That direction can be found by\n",
    "$$\n",
    "v \\times P_1.\n",
    "$$\n",
    "Let $v^{\\perp}$ be the unit vector in this direction."
   ]
  },
  {
   "cell_type": "code",
   "execution_count": 5,
   "metadata": {},
   "outputs": [
    {
     "data": {
      "text/plain": [
       "array([-0.95769775, -0.28733023, -0.01601127])"
      ]
     },
     "execution_count": 5,
     "metadata": {},
     "output_type": "execute_result"
    }
   ],
   "source": [
    "v_perp = np.cross(midpt_1, v) # == np.cross(C, v)\n",
    "v_perp /= np.linalg.norm(v_perp)\n",
    "v_perp"
   ]
  },
  {
   "cell_type": "markdown",
   "metadata": {},
   "source": [
    "We will then move 92.5km from $P_1$ in the direction \n",
    "$$\n",
    "P_2 = \\cos(B) \\cdot P_1 + R \\cdot \\sin(B) \\cdot v^{\\perp}\n",
    "$$\n",
    "where\n",
    "$$\n",
    "\\frac{B}{2\\pi} = \\frac{92.5km}{6371km}\n",
    "$$"
   ]
  },
  {
   "cell_type": "code",
   "execution_count": 6,
   "metadata": {},
   "outputs": [
    {
     "data": {
      "text/plain": [
       "[array([-592.50445431, 1307.05760939, 6207.2683104 ]),\n",
       " array([-415.33659543, 1360.21183452, 6210.23029184]),\n",
       " array([-542.51096281, 1138.32435259, 6244.96121073]),\n",
       " array([-365.34310393, 1191.47857771, 6247.92319217])]"
      ]
     },
     "execution_count": 6,
     "metadata": {},
     "output_type": "execute_result"
    }
   ],
   "source": [
    "B = 92.5/6371\n",
    "corners = [np.cos(B) * midpt_1 + R * np.sin(B) * v_perp]\n",
    "corners.append(np.cos(B) * midpt_1 - R * np.sin(B) * v_perp)\n",
    "\n",
    "v_perp = np.cross(midpt_1, v) # == np.cross(C, v)\n",
    "v_perp /= np.linalg.norm(v_perp)\n",
    "v_perp\n",
    "midpt_2 = np.cos(A) * C - R * np.sin(A) * v\n",
    "corners.append(np.cos(B) * midpt_2 + R * np.sin(B) * v_perp)\n",
    "corners.append(np.cos(B) * midpt_2 - R * np.sin(B) * v_perp)\n",
    "\n",
    "corners"
   ]
  },
  {
   "cell_type": "code",
   "execution_count": 7,
   "metadata": {},
   "outputs": [
    {
     "data": {
      "text/plain": [
       "[6370.999999999999, 6370.999999999999, 6371.000000000001, 6371.0]"
      ]
     },
     "execution_count": 7,
     "metadata": {},
     "output_type": "execute_result"
    }
   ],
   "source": [
    "[np.linalg.norm(corner) for corner in corners]"
   ]
  },
  {
   "cell_type": "markdown",
   "metadata": {},
   "source": [
    "We can find another corner\n",
    "$$\n",
    "\\cos(A') \\cdot P_1 - R \\cdot \\sin(A') \\cdot v^{\\perp}\n",
    "$$ \n",
    "and similarly other corners."
   ]
  },
  {
   "cell_type": "markdown",
   "metadata": {},
   "source": [
    "### Now convert back to lat lon"
   ]
  },
  {
   "cell_type": "code",
   "execution_count": 8,
   "metadata": {},
   "outputs": [
    {
     "data": {
      "text/plain": [
       "[76.98228647840101, 77.10107655680675, 78.58424793008591, 78.71962386426219]"
      ]
     },
     "execution_count": 8,
     "metadata": {},
     "output_type": "execute_result"
    }
   ],
   "source": [
    "lat_degs = [np.arcsin(z_ / R) / (2 * np.pi) * 360 for x_, y_, z_ in corners]\n",
    "lat_degs"
   ]
  },
  {
   "cell_type": "code",
   "execution_count": 9,
   "metadata": {},
   "outputs": [
    {
     "data": {
      "text/plain": [
       "[-24.385340987196802,\n",
       " -16.979893384135025,\n",
       " -25.481877244698317,\n",
       " -17.047111911561473]"
      ]
     },
     "execution_count": 9,
     "metadata": {},
     "output_type": "execute_result"
    }
   ],
   "source": [
    "lon_degs = [np.arctan2(x_ / R, y_ / R) / (2 * np.pi) * 360 for x_, y_, z_ in corners]\n",
    "lon_degs"
   ]
  },
  {
   "cell_type": "code",
   "execution_count": 10,
   "metadata": {},
   "outputs": [],
   "source": [
    "%matplotlib inline\n",
    "import matplotlib.pyplot as plt"
   ]
  },
  {
   "cell_type": "code",
   "execution_count": 11,
   "metadata": {},
   "outputs": [
    {
     "data": {
      "text/plain": [
       "<matplotlib.collections.PathCollection at 0x7f067c500220>"
      ]
     },
     "execution_count": 11,
     "metadata": {},
     "output_type": "execute_result"
    },
    {
     "data": {
      "image/png": "[encoded data removed]",
      "text/plain": [
       "<Figure size 432x288 with 1 Axes>"
      ]
     },
     "metadata": {
      "needs_background": "light"
     },
     "output_type": "display_data"
    }
   ],
   "source": [
    "plt.scatter(lon_degs, lat_degs)\n",
    "plt.scatter([lon_deg], [lat_deg])"
   ]
  },
  {
   "cell_type": "code",
   "execution_count": 12,
   "metadata": {},
   "outputs": [],
   "source": [
    "from sklearn.neighbors import BallTree\n",
    "import pandas as pd\n",
    "import numpy as np"
   ]
  },
  {
   "cell_type": "code",
   "execution_count": 13,
   "metadata": {},
   "outputs": [],
   "source": [
    "ls8 = pd.read_csv('./LS8.csv')"
   ]
  },
  {
   "cell_type": "code",
   "execution_count": 34,
   "metadata": {},
   "outputs": [
    {
     "data": {
      "text/plain": [
       "array([[176.043772, -81.844418],\n",
       "       [177.588836, -81.844418],\n",
       "       [179.133901, -81.844418],\n",
       "       ...,\n",
       "       [169.743853,  81.71875 ],\n",
       "       [171.288917,  81.71875 ],\n",
       "       [172.833982,  81.71875 ]])"
      ]
     },
     "execution_count": 34,
     "metadata": {},
     "output_type": "execute_result"
    }
   ],
   "source": [
    "#LS_rad = np.vstack((ls8.lat.values,ls8.lon.values)).T # fixed lat/lon convention\n",
    "\n",
    "LS_rad = np.vstack((ls8.lon.values,ls8.lat.values)).T # fixed lat/lon convention\n",
    "LS_rad"
   ]
  },
  {
   "cell_type": "code",
   "execution_count": 35,
   "metadata": {},
   "outputs": [],
   "source": [
    "LS_rad *= np.pi/180"
   ]
  },
  {
   "cell_type": "code",
   "execution_count": 36,
   "metadata": {},
   "outputs": [
    {
     "data": {
      "text/plain": [
       "array([[ 3.07254345, -1.42845457],\n",
       "       [ 3.0995099 , -1.42845457],\n",
       "       [ 3.12647637, -1.42845457],\n",
       "       ...,\n",
       "       [ 2.96258912,  1.42626125],\n",
       "       [ 2.98955557,  1.42626125],\n",
       "       [ 3.01652205,  1.42626125]])"
      ]
     },
     "execution_count": 36,
     "metadata": {},
     "output_type": "execute_result"
    }
   ],
   "source": [
    "LS_rad"
   ]
  },
  {
   "cell_type": "code",
   "execution_count": 37,
   "metadata": {},
   "outputs": [],
   "source": [
    "LSBall = BallTree(LS_rad,metric='haversine')"
   ]
  },
  {
   "cell_type": "code",
   "execution_count": 26,
   "metadata": {},
   "outputs": [
    {
     "data": {
      "text/plain": [
       "<AxesSubplot:>"
      ]
     },
     "execution_count": 26,
     "metadata": {},
     "output_type": "execute_result"
    },
    {
     "data": {
      "image/png": "[encoded data removed]",
      "text/plain": [
       "<Figure size 432x288 with 1 Axes>"
      ]
     },
     "metadata": {
      "needs_background": "light"
     },
     "output_type": "display_data"
    }
   ],
   "source": [
    "ls8.lat.plot()"
   ]
  },
  {
   "cell_type": "code",
   "execution_count": 39,
   "metadata": {},
   "outputs": [
    {
     "data": {
      "text/plain": [
       "(array([[0.01051491, 0.01908568, 0.01967936, 0.03049768, 0.03429434]]),\n",
       " array([[14394, 14162, 14393, 14161, 14625]]))"
      ]
     },
     "execution_count": 39,
     "metadata": {},
     "output_type": "execute_result"
    }
   ],
   "source": [
    "#lat = 40\n",
    "#lon = -105.27\n",
    "q = np.array([[np.deg2rad(lat), np.deg2rad(lon)]])\n",
    "LSBall.query(q.reshape(1,-1),k=5,return_distance=True,breadth_first=True)"
   ]
  },
  {
   "cell_type": "code",
   "execution_count": 33,
   "metadata": {},
   "outputs": [
    {
     "data": {
      "text/plain": [
       "(0.02372208156588993, 1.3591751549905842, 77.875)"
      ]
     },
     "execution_count": 33,
     "metadata": {},
     "output_type": "execute_result"
    }
   ],
   "source": [
    "lat*(2*np.pi)/360, lat, lat*180/np.pi"
   ]
  },
  {
   "cell_type": "code",
   "execution_count": null,
   "metadata": {},
   "outputs": [],
   "source": [
    "1.446412 "
   ]
  },
  {
   "cell_type": "code",
   "execution_count": 40,
   "metadata": {},
   "outputs": [
    {
     "data": {
      "text/html": [
       "<div>\n",
       "<style scoped>\n",
       "    .dataframe tbody tr th:only-of-type {\n",
       "        vertical-align: middle;\n",
       "    }\n",
       "\n",
       "    .dataframe tbody tr th {\n",
       "        vertical-align: top;\n",
       "    }\n",
       "\n",
       "    .dataframe thead th {\n",
       "        text-align: right;\n",
       "    }\n",
       "</style>\n",
       "<table border=\"1\" class=\"dataframe\">\n",
       "  <thead>\n",
       "    <tr style=\"text-align: right;\">\n",
       "      <th></th>\n",
       "      <th>name</th>\n",
       "      <th>path</th>\n",
       "      <th>row</th>\n",
       "      <th>lat</th>\n",
       "      <th>lon</th>\n",
       "      <th>lat_UL</th>\n",
       "      <th>lon_UL</th>\n",
       "      <th>lat_UR</th>\n",
       "      <th>lon_UR</th>\n",
       "      <th>lat_LL</th>\n",
       "      <th>lon_LL</th>\n",
       "      <th>lat_LR</th>\n",
       "      <th>lon_LR</th>\n",
       "    </tr>\n",
       "  </thead>\n",
       "  <tbody>\n",
       "    <tr>\n",
       "      <th>14394</th>\n",
       "      <td>191_60</td>\n",
       "      <td>191.0</td>\n",
       "      <td>60.0</td>\n",
       "      <td>0.0</td>\n",
       "      <td>1.837763</td>\n",
       "      <td>0.931</td>\n",
       "      <td>1.161</td>\n",
       "      <td>0.685</td>\n",
       "      <td>2.858</td>\n",
       "      <td>-0.685</td>\n",
       "      <td>0.818</td>\n",
       "      <td>-0.931</td>\n",
       "      <td>2.514</td>\n",
       "    </tr>\n",
       "  </tbody>\n",
       "</table>\n",
       "</div>"
      ],
      "text/plain": [
       "         name   path   row  lat       lon  lat_UL  lon_UL  lat_UR  lon_UR  \\\n",
       "14394  191_60  191.0  60.0  0.0  1.837763   0.931   1.161   0.685   2.858   \n",
       "\n",
       "       lat_LL  lon_LL  lat_LR  lon_LR  \n",
       "14394  -0.685   0.818  -0.931   2.514  "
      ]
     },
     "execution_count": 40,
     "metadata": {},
     "output_type": "execute_result"
    }
   ],
   "source": [
    "ls8.loc[[14394]]"
   ]
  },
  {
   "cell_type": "code",
   "execution_count": 30,
   "metadata": {},
   "outputs": [
    {
     "data": {
      "text/html": [
       "<div>\n",
       "<style scoped>\n",
       "    .dataframe tbody tr th:only-of-type {\n",
       "        vertical-align: middle;\n",
       "    }\n",
       "\n",
       "    .dataframe tbody tr th {\n",
       "        vertical-align: top;\n",
       "    }\n",
       "\n",
       "    .dataframe thead th {\n",
       "        text-align: right;\n",
       "    }\n",
       "</style>\n",
       "<table border=\"1\" class=\"dataframe\">\n",
       "  <thead>\n",
       "    <tr style=\"text-align: right;\">\n",
       "      <th></th>\n",
       "      <th>name</th>\n",
       "      <th>path</th>\n",
       "      <th>row</th>\n",
       "      <th>lat</th>\n",
       "      <th>lon</th>\n",
       "      <th>lat_UL</th>\n",
       "      <th>lon_UL</th>\n",
       "      <th>lat_UR</th>\n",
       "      <th>lon_UR</th>\n",
       "      <th>lat_LL</th>\n",
       "      <th>lon_LL</th>\n",
       "      <th>lat_LR</th>\n",
       "      <th>lon_LR</th>\n",
       "    </tr>\n",
       "  </thead>\n",
       "  <tbody>\n",
       "    <tr>\n",
       "      <th>14624</th>\n",
       "      <td>193_59</td>\n",
       "      <td>193.0</td>\n",
       "      <td>59.0</td>\n",
       "      <td>1.446412</td>\n",
       "      <td>-0.945353</td>\n",
       "      <td>2.377</td>\n",
       "      <td>-1.623</td>\n",
       "      <td>2.131</td>\n",
       "      <td>0.075</td>\n",
       "      <td>0.762</td>\n",
       "      <td>-1.965</td>\n",
       "      <td>0.515</td>\n",
       "      <td>-0.269</td>\n",
       "    </tr>\n",
       "  </tbody>\n",
       "</table>\n",
       "</div>"
      ],
      "text/plain": [
       "         name   path   row       lat       lon  lat_UL  lon_UL  lat_UR  \\\n",
       "14624  193_59  193.0  59.0  1.446412 -0.945353   2.377  -1.623   2.131   \n",
       "\n",
       "       lon_UR  lat_LL  lon_LL  lat_LR  lon_LR  \n",
       "14624   0.075   0.762  -1.965   0.515  -0.269  "
      ]
     },
     "execution_count": 30,
     "metadata": {},
     "output_type": "execute_result"
    }
   ],
   "source": [
    "ls8.loc[[14624]]"
   ]
  },
  {
   "cell_type": "code",
   "execution_count": 12,
   "metadata": {},
   "outputs": [],
   "source": [
    "boulder_scenes = np.array([[1.82882079, 0.72884239],\n",
    "                           [1.83717104, 0.75371663],\n",
    "                           [1.83235034, 0.65405287],\n",
    "                           [1.83991762, 0.6790087 ],\n",
    "                           [1.82075591, 0.70393913],\n",
    "                           [1.84772238, 0.70393913],\n",
    "                           [1.85578727, 0.72884239]])"
   ]
  },
  {
   "cell_type": "code",
   "execution_count": 13,
   "metadata": {},
   "outputs": [
    {
     "data": {
      "text/plain": [
       "(1.8373081035744305, 0.6981317007977318)"
      ]
     },
     "execution_count": 13,
     "metadata": {},
     "output_type": "execute_result"
    }
   ],
   "source": [
    "lon, lat"
   ]
  },
  {
   "cell_type": "markdown",
   "metadata": {},
   "source": [
    "### A representation of the scene that implements `contains`"
   ]
  },
  {
   "cell_type": "code",
   "execution_count": 14,
   "metadata": {},
   "outputs": [],
   "source": [
    "\n",
    "def representation(center_lon,  # in radians\n",
    "                   center_lat,  # in radians\n",
    "                   instrument_tilt, # in degrees, rotation clockwise\n",
    "                   len_lon=180, # extent in km\n",
    "                   len_lat=185, # extent in km\n",
    "                   R=6371):      # \"radius\" of earth\n",
    "\n",
    "    tilt_deg = instrument_tilt * 2 * np.pi / 360\n",
    "\n",
    "    x, y, z = (R * np.cos(center_lat) *\n",
    "               np.sin(center_lon),\n",
    "               R * np.cos(center_lat) *\n",
    "               np.cos(center_lon), R * np.sin(center_lat))\n",
    "    C = np.array([x,y,z]) # center of scene\n",
    "\n",
    "    dlat, dlon = np.sin(-tilt_deg), np.cos(-tilt_deg)\n",
    "    dir_lon = np.array([-np.sin(center_lat) * np.sin(center_lon) * dlat +\n",
    "                       np.cos(center_lat) * np.cos(center_lon) * dlon,\n",
    "                       -np.sin(center_lat) * np.cos(center_lon) * dlat -\n",
    "                       np.cos(center_lat) * np.sin(center_lon) * dlon,\n",
    "                       np.cos(center_lat) * dlat])\n",
    "    dir_lon /= np.linalg.norm(dir_lon) \n",
    "\n",
    "    A = len_lon / 2 / R\n",
    "    midpt_1 = np.cos(A) * C + R * np.sin(A) * dir_lon\n",
    "\n",
    "    dir_lat = np.cross(midpt_1, dir_lon)\n",
    "    dir_lat /= np.linalg.norm(dir_lat)\n",
    "\n",
    "    B = len_lat/ 2 / R\n",
    "\n",
    "    corners = [np.cos(B) * midpt_1 + R * np.sin(B) * dir_lat]\n",
    "    corners.append(np.cos(B) * midpt_1 - R * np.sin(B) * dir_lat)\n",
    "\n",
    "    midpt_2 = np.cos(A) * C - R * np.sin(A) * dir_lon\n",
    "    corners.append(np.cos(B) * midpt_2 + R * np.sin(B) * dir_lat)\n",
    "    corners.append(np.cos(B) * midpt_2 - R * np.sin(B) * dir_lat)\n",
    "    corners = np.array(corners)\n",
    "    \n",
    "    corners_lon_lat = np.array([(np.arctan2(x_ / R, y_ / R),\n",
    "                                 np.arcsin(z_ / R)) for x_, y_, z_ in corners])\n",
    "\n",
    "    # now work out halfspace\n",
    "\n",
    "    # these are the edge segmentsin lon/lat space\n",
    "    supports = [corners_lon_lat[0]-corners_lon_lat[1],\n",
    "                corners_lon_lat[0]-corners_lon_lat[2],\n",
    "                corners_lon_lat[1]-corners_lon_lat[3],\n",
    "                corners_lon_lat[2]-corners_lon_lat[3]] \n",
    "\n",
    "    # normals to each edge segment\n",
    "    normals = np.array([(s[1],-s[0]) for s in supports])\n",
    "    pts = [corners_lon_lat[0],   # a point within each edge\n",
    "           corners_lon_lat[0],\n",
    "           corners_lon_lat[1],\n",
    "           corners_lon_lat[3]]\n",
    "    bdry_values = np.array([np.sum(n * p) for n, p in zip(normals, pts)])\n",
    "    center_values = [np.sum(n * [center_lon, center_lat]) for n in normals]\n",
    "    center_signs = np.sign(center_values - bdry_values)\n",
    "\n",
    "    def _check(normals, center_signs, bdry_values, lon_lat_vals):\n",
    "        normal_mul = np.asarray(lon_lat_vals).dot(normals.T)\n",
    "        values_ = normal_mul - bdry_values[None,:]\n",
    "        signs_ = np.sign(values_) * center_signs[None,:]\n",
    "        return np.squeeze(np.all(signs_ == 1, 1))\n",
    "\n",
    "    _check = functools.partial(_check, normals, center_signs, bdry_values)\n",
    "        \n",
    "    return corners_lon_lat, _check, normals, bdry_values, center_signs\n"
   ]
  },
  {
   "cell_type": "markdown",
   "metadata": {},
   "source": [
    "## All scenes containing Boulder"
   ]
  },
  {
   "cell_type": "code",
   "execution_count": 15,
   "metadata": {},
   "outputs": [
    {
     "data": {
      "text/plain": [
       "(1.8373081035744305, 0.6981317007977318)"
      ]
     },
     "execution_count": 15,
     "metadata": {},
     "output_type": "execute_result"
    },
    {
     "data": {
      "image/png": "[encoded data removed]",
      "text/plain": [
       "<Figure size 432x288 with 1 Axes>"
      ]
     },
     "metadata": {
      "needs_background": "light"
     },
     "output_type": "display_data"
    }
   ],
   "source": [
    "for i, scene in enumerate(boulder_scenes):\n",
    "    lon, lat = scene\n",
    "    corners, contains, normals, bdry_values, center_signs = representation(lon, \n",
    "                                                                           lat,\n",
    "                                                                           -theta*360/(2*np.pi))\n",
    "    \n",
    "    if contains([boulder_lon, boulder_lat]):\n",
    "        plt.scatter(corners[:,0], corners[:,1], label='Scene %d' % i)\n",
    "    \n",
    "plt.scatter([boulder_lon], [boulder_lat], marker='+', label='Boulder', s=100)\n",
    "plt.legend()\n",
    "    \n",
    "boulder_lon, boulder_lat"
   ]
  },
  {
   "cell_type": "markdown",
   "metadata": {},
   "source": [
    "### What needs to be stored\n",
    "\n",
    "- We need to store `normals`, `bdry_values` and `center_signs` for each scene."
   ]
  },
  {
   "cell_type": "markdown",
   "metadata": {},
   "source": [
    "### How `contains` is determined\n",
    "\n",
    "- Function can check several query points at once....\n"
   ]
  },
  {
   "cell_type": "code",
   "execution_count": 16,
   "metadata": {},
   "outputs": [],
   "source": [
    "def _check(normals, center_signs, bdry_values, lon_lat_vals):\n",
    "    normal_mul = np.asarray(lon_lat_vals).dot(normals.T)\n",
    "    values_ = normal_mul - bdry_values[None,:]\n",
    "    signs_ = np.sign(values_) * center_signs[None,:]\n",
    "    return np.squeeze(np.all(signs_ == 1, 1))\n",
    "import functools\n",
    "\n",
    "contains = functools.partial(_check, normals, center_signs, bdry_values)"
   ]
  },
  {
   "cell_type": "markdown",
   "metadata": {},
   "source": [
    "### Scenes not containing Boulder"
   ]
  },
  {
   "cell_type": "code",
   "execution_count": 17,
   "metadata": {},
   "outputs": [
    {
     "data": {
      "text/plain": [
       "(1.8373081035744305, 0.6981317007977318)"
      ]
     },
     "execution_count": 17,
     "metadata": {},
     "output_type": "execute_result"
    },
    {
     "data": {
      "image/png": "[encoded data removed]",
      "text/plain": [
       "<Figure size 432x288 with 1 Axes>"
      ]
     },
     "metadata": {
      "needs_background": "light"
     },
     "output_type": "display_data"
    },
    {
     "data": {
      "image/png": "[encoded data removed]",
      "text/plain": [
       "<Figure size 432x288 with 1 Axes>"
      ]
     },
     "metadata": {
      "needs_background": "light"
     },
     "output_type": "display_data"
    },
    {
     "data": {
      "image/png": "[encoded data removed]",
      "text/plain": [
       "<Figure size 432x288 with 1 Axes>"
      ]
     },
     "metadata": {
      "needs_background": "light"
     },
     "output_type": "display_data"
    },
    {
     "data": {
      "image/png": "[encoded data removed]",
      "text/plain": [
       "<Figure size 432x288 with 1 Axes>"
      ]
     },
     "metadata": {
      "needs_background": "light"
     },
     "output_type": "display_data"
    },
    {
     "data": {
      "image/png": "[encoded data removed]",
      "text/plain": [
       "<Figure size 432x288 with 1 Axes>"
      ]
     },
     "metadata": {
      "needs_background": "light"
     },
     "output_type": "display_data"
    }
   ],
   "source": [
    "for i, scene in enumerate(boulder_scenes):\n",
    "    lon, lat = scene\n",
    "    corners, contains, normals, bdry_values, center_signs = representation(lon, \n",
    "                                                                           lat,\n",
    "                                                                           -theta*360/(2*np.pi))\n",
    "    \n",
    "    if not contains([boulder_lon, boulder_lat]):\n",
    "        plt.figure()\n",
    "        plt.scatter(corners[:,0], corners[:,1], label='Scene %d' % i)\n",
    "        plt.scatter([boulder_lon], [boulder_lat], marker='+', label='Boulder', s=100)\n",
    "        plt.legend()\n",
    "    \n",
    "boulder_lon, boulder_lat"
   ]
  },
  {
   "cell_type": "code",
   "execution_count": null,
   "metadata": {},
   "outputs": [],
   "source": []
  }
 ],
 "metadata": {
  "jupytext": {
   "cell_metadata_filter": "all,-slideshow"
  },
  "kernelspec": {
   "display_name": "Python 3",
   "language": "python",
   "name": "python3"
  },
  "language_info": {
   "codemirror_mode": {
    "name": "ipython",
    "version": 3
   },
   "file_extension": ".py",
   "mimetype": "text/x-python",
   "name": "python",
   "nbconvert_exporter": "python",
   "pygments_lexer": "ipython3",
   "version": "3.8.5"
  }
 },
 "nbformat": 4,
 "nbformat_minor": 4
}
