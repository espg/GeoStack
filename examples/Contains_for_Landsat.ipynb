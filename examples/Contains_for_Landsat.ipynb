{
 "cells": [
  {
   "cell_type": "markdown",
   "metadata": {},
   "source": [
    "Let $C$ be the center point and $\\theta$ is the tilt angle there is a corresponding \"unit tangent vector\" to the sphere with that tilt. Call this vector $v$."
   ]
  },
  {
   "cell_type": "markdown",
   "metadata": {},
   "source": [
    "To move $C$ along $v$ a distance $D$ in a sphere of radius $R$ is something like\n",
    "\n",
    "$$\n",
    "P_1  = \\cos(A) \\cdot C + R\\cdot \\sin (A) \\cdot v\n",
    "$$\n",
    "where $A$ corresponds to 90km in radians. This is `midpt_1` in code below. Moving in the direction $-v$\n",
    "yields\n",
    "$$\n",
    "P_2  = \\cos(A) \\cdot C - R\\cdot \\sin (A) \\cdot v\n",
    "$$\n",
    "which is referred to as `midpt_2` below."
   ]
  },
  {
   "cell_type": "code",
   "execution_count": 1,
   "metadata": {},
   "outputs": [],
   "source": [
    "import numpy as np\n",
    "import functools \n",
    "lat_deg, lon_deg = 40, -105.27\n",
    "lat, lon, R, theta = lat_deg*(2*np.pi)/360, lon_deg*(2*np.pi)/360, 6371, -12 * 2 * np.pi / 360\n",
    "boulder_lat, boulder_lon = lat, lon\n",
    "x, y, z = (R * np.cos(lat) * np.sin(lon), R * np.cos(lat) * np.cos(lon), R * np.sin(lat))\n",
    "C = np.array([x,y,z])"
   ]
  },
  {
   "cell_type": "markdown",
   "metadata": {},
   "source": [
    "## Computing $v$ from $\\theta$\n",
    "\n",
    "At a point $C=[x,y,z]$, a tilt can be thought of as moving through lat and lon along a line with direction vector $d=(d_lon, d_lat)$, so we have \n",
    "in parameters $t$\n",
    "$$\n",
    "x(t), y(t), z(t) = (R * \\cos(lat_0 + t dlat) * \\cos(lon_0 + t dlon), R * \\cos(lat_0 + t dlat) * \\sin(lon_0 + t dlon), R * \\sin(lat_0 + t dlat))\n",
    "$$"
   ]
  },
  {
   "cell_type": "markdown",
   "metadata": {},
   "source": [
    "Differentiating with respect to $t$\n",
    "(ignoring the $R$ scaling as we want normalized $v$) we see $v$ is parallel\n",
    "to \n",
    "$$\n",
    "R\\cdot (-\\sin (lat_0) \\cos(lon_0) dlat - \\cos(lat_0) \\sin(lon_0) dlon, -\\sin(lat_0) \\sin(lon_0) dlat + \\cos(lat_0) \\cos(lon_0) dlon, \\cos(lat_0) dlat)\n",
    "$$"
   ]
  },
  {
   "cell_type": "code",
   "execution_count": 2,
   "metadata": {},
   "outputs": [
    {
     "data": {
      "text/plain": [
       "1.1368683772161603e-13"
      ]
     },
     "execution_count": 2,
     "metadata": {},
     "output_type": "execute_result"
    }
   ],
   "source": [
    "dlat, dlon = np.sin(theta), np.cos(theta)\n",
    "v = np.array([-np.sin(lat) * np.sin(lon) * dlat + np.cos(lat) * np.cos(lon) * dlon,\n",
    "              -np.sin(lat) * np.cos(lon) * dlat - np.cos(lat) * np.sin(lon) * dlon,\n",
    "              np.cos(lat) * dlat])\n",
    "v /= np.linalg.norm(v) \n",
    "np.sum(v*C)"
   ]
  },
  {
   "cell_type": "markdown",
   "metadata": {},
   "source": [
    "The angle $A$ is \n",
    "$$\n",
    "\\frac{A}{2\\pi} = \\frac{90km}{2 \\pi \\cdot 6371km}\n",
    "$$"
   ]
  },
  {
   "cell_type": "code",
   "execution_count": 3,
   "metadata": {},
   "outputs": [
    {
     "data": {
      "text/plain": [
       "0.014126510751844295"
      ]
     },
     "execution_count": 3,
     "metadata": {},
     "output_type": "execute_result"
    }
   ],
   "source": [
    "A = 90/R\n",
    "A"
   ]
  },
  {
   "cell_type": "code",
   "execution_count": 4,
   "metadata": {},
   "outputs": [
    {
     "data": {
      "text/plain": [
       "(89.99925165821907, 0.9999002225062911, 0.9999002225062912)"
      ]
     },
     "execution_count": 4,
     "metadata": {},
     "output_type": "execute_result"
    }
   ],
   "source": [
    "midpt_1 = np.cos(A) * C + R * np.sin(A) * v\n",
    "np.linalg.norm(midpt_1 - C), np.dot(midpt_1, C) / R**2, np.cos(A)"
   ]
  },
  {
   "cell_type": "markdown",
   "metadata": {},
   "source": [
    "To find next corner, we move $\\perp$ to $v$.\n",
    "That direction can be found by\n",
    "$$\n",
    "v \\times P_1.\n",
    "$$\n",
    "Let $v^{\\perp}$ be the unit vector in this direction."
   ]
  },
  {
   "cell_type": "code",
   "execution_count": 5,
   "metadata": {},
   "outputs": [
    {
     "data": {
      "text/plain": [
       "array([-0.52710192, -0.42105814, -0.73815555])"
      ]
     },
     "execution_count": 5,
     "metadata": {},
     "output_type": "execute_result"
    }
   ],
   "source": [
    "v_perp = np.cross(midpt_1, v) # == np.cross(C, v)\n",
    "v_perp /= np.linalg.norm(v_perp)\n",
    "v_perp"
   ]
  },
  {
   "cell_type": "markdown",
   "metadata": {},
   "source": [
    "We will then move 92.5km from $P_1$ in the direction \n",
    "$$\n",
    "P_2 = \\cos(B) \\cdot P_1 + R \\cdot \\sin(B) \\cdot v^{\\perp}\n",
    "$$\n",
    "where\n",
    "$$\n",
    "\\frac{B}{2\\pi} = \\frac{92.5km}{6371km}\n",
    "$$"
   ]
  },
  {
   "cell_type": "code",
   "execution_count": 6,
   "metadata": {},
   "outputs": [
    {
     "data": {
      "text/plain": [
       "[array([-4793.71215861, -1244.46508904,  4007.65160444]),\n",
       " array([-4696.20172991, -1166.57207038,  4144.20558329]),\n",
       " array([-4718.19913095, -1403.61903982,  4044.51375961]),\n",
       " array([-4620.68870225, -1325.72602116,  4181.06773847])]"
      ]
     },
     "execution_count": 6,
     "metadata": {},
     "output_type": "execute_result"
    }
   ],
   "source": [
    "B = 92.5/6371\n",
    "corners = [np.cos(B) * midpt_1 + R * np.sin(B) * v_perp]\n",
    "corners.append(np.cos(B) * midpt_1 - R * np.sin(B) * v_perp)\n",
    "\n",
    "v_perp = np.cross(midpt_1, v) # == np.cross(C, v)\n",
    "v_perp /= np.linalg.norm(v_perp)\n",
    "v_perp\n",
    "midpt_2 = np.cos(A) * C - R * np.sin(A) * v\n",
    "corners.append(np.cos(B) * midpt_2 + R * np.sin(B) * v_perp)\n",
    "corners.append(np.cos(B) * midpt_2 - R * np.sin(B) * v_perp)\n",
    "\n",
    "corners"
   ]
  },
  {
   "cell_type": "code",
   "execution_count": 7,
   "metadata": {},
   "outputs": [
    {
     "data": {
      "text/plain": [
       "[6371.0, 6371.0, 6371.0, 6371.0]"
      ]
     },
     "execution_count": 7,
     "metadata": {},
     "output_type": "execute_result"
    }
   ],
   "source": [
    "[np.linalg.norm(corner) for corner in corners]"
   ]
  },
  {
   "cell_type": "markdown",
   "metadata": {},
   "source": [
    "We can find another corner\n",
    "$$\n",
    "\\cos(A') \\cdot P_1 - R \\cdot \\sin(A') \\cdot v^{\\perp}\n",
    "$$ \n",
    "and similarly other corners."
   ]
  },
  {
   "cell_type": "markdown",
   "metadata": {},
   "source": [
    "### Now convert back to lat lon"
   ]
  },
  {
   "cell_type": "code",
   "execution_count": 8,
   "metadata": {},
   "outputs": [
    {
     "data": {
      "text/plain": [
       "[38.979767825998536, 40.5777720357263, 39.407514715183765, 41.01567949520173]"
      ]
     },
     "execution_count": 8,
     "metadata": {},
     "output_type": "execute_result"
    }
   ],
   "source": [
    "lat_degs = [np.arcsin(z_ / R) / (2 * np.pi) * 360 for x_, y_, z_ in corners]\n",
    "lat_degs"
   ]
  },
  {
   "cell_type": "code",
   "execution_count": 9,
   "metadata": {},
   "outputs": [
    {
     "data": {
      "text/plain": [
       "[-104.5529419547576,\n",
       " -103.95033897685151,\n",
       " -106.56723736416586,\n",
       " -106.00876315022143]"
      ]
     },
     "execution_count": 9,
     "metadata": {},
     "output_type": "execute_result"
    }
   ],
   "source": [
    "lon_degs = [np.arctan2(x_ / R, y_ / R) / (2 * np.pi) * 360 for x_, y_, z_ in corners]\n",
    "lon_degs"
   ]
  },
  {
   "cell_type": "code",
   "execution_count": 10,
   "metadata": {},
   "outputs": [],
   "source": [
    "%matplotlib inline\n",
    "import matplotlib.pyplot as plt"
   ]
  },
  {
   "cell_type": "code",
   "execution_count": 11,
   "metadata": {},
   "outputs": [
    {
     "data": {
      "text/plain": [
       "<matplotlib.collections.PathCollection at 0x7f40c5fa9220>"
      ]
     },
     "execution_count": 11,
     "metadata": {},
     "output_type": "execute_result"
    },
    {
     "data": {
      "image/png": "[encoded data removed]",
      "text/plain": [
       "<Figure size 432x288 with 1 Axes>"
      ]
     },
     "metadata": {
      "needs_background": "light"
     },
     "output_type": "display_data"
    }
   ],
   "source": [
    "plt.scatter(lon_degs, lat_degs)\n",
    "plt.scatter([lon_deg], [lat_deg])"
   ]
  },
  {
   "cell_type": "code",
   "execution_count": null,
   "metadata": {},
   "outputs": [],
   "source": []
  },
  {
   "cell_type": "code",
   "execution_count": 18,
   "metadata": {},
   "outputs": [],
   "source": [
    "boulder_scenes = np.array([[-1.82882079, 0.72884239],\n",
    "                           [-1.83717104, 0.75371663],\n",
    "                           [-1.83235034, 0.65405287],\n",
    "                           [-1.83991762, 0.6790087 ],\n",
    "                           [-1.82075591, 0.70393913],\n",
    "                           [-1.84772238, 0.70393913],\n",
    "                           [-1.85578727, 0.72884239]])"
   ]
  },
  {
   "cell_type": "code",
   "execution_count": 19,
   "metadata": {},
   "outputs": [
    {
     "data": {
      "text/plain": [
       "(1.85578727, 0.72884239)"
      ]
     },
     "execution_count": 19,
     "metadata": {},
     "output_type": "execute_result"
    }
   ],
   "source": [
    "lon, lat"
   ]
  },
  {
   "cell_type": "markdown",
   "metadata": {},
   "source": [
    "### A representation of the scene that implements `contains`"
   ]
  },
  {
   "cell_type": "code",
   "execution_count": 20,
   "metadata": {},
   "outputs": [],
   "source": [
    "\n",
    "def representation(center_lon,  # in radians\n",
    "                   center_lat,  # in radians\n",
    "                   instrument_tilt, # in degrees, rotation clockwise\n",
    "                   len_lon=180, # extent in km\n",
    "                   len_lat=185, # extent in km\n",
    "                   R=6371):      # \"radius\" of earth\n",
    "\n",
    "    tilt_deg = instrument_tilt * 2 * np.pi / 360\n",
    "\n",
    "    x, y, z = (R * np.cos(center_lat) *\n",
    "               np.sin(center_lon),\n",
    "               R * np.cos(center_lat) *\n",
    "               np.cos(center_lon), R * np.sin(center_lat))\n",
    "    C = np.array([x,y,z]) # center of scene\n",
    "\n",
    "    dlat, dlon = np.sin(-tilt_deg), np.cos(-tilt_deg)\n",
    "    dir_lon = np.array([-np.sin(center_lat) * np.sin(center_lon) * dlat +\n",
    "                       np.cos(center_lat) * np.cos(center_lon) * dlon,\n",
    "                       -np.sin(center_lat) * np.cos(center_lon) * dlat -\n",
    "                       np.cos(center_lat) * np.sin(center_lon) * dlon,\n",
    "                       np.cos(center_lat) * dlat])\n",
    "    dir_lon /= np.linalg.norm(dir_lon) \n",
    "\n",
    "    A = len_lon / 2 / R\n",
    "    midpt_1 = np.cos(A) * C + R * np.sin(A) * dir_lon\n",
    "\n",
    "    dir_lat = np.cross(midpt_1, dir_lon)\n",
    "    dir_lat /= np.linalg.norm(dir_lat)\n",
    "\n",
    "    B = len_lat/ 2 / R\n",
    "\n",
    "    corners = [np.cos(B) * midpt_1 + R * np.sin(B) * dir_lat]\n",
    "    corners.append(np.cos(B) * midpt_1 - R * np.sin(B) * dir_lat)\n",
    "\n",
    "    midpt_2 = np.cos(A) * C - R * np.sin(A) * dir_lon\n",
    "    corners.append(np.cos(B) * midpt_2 + R * np.sin(B) * dir_lat)\n",
    "    corners.append(np.cos(B) * midpt_2 - R * np.sin(B) * dir_lat)\n",
    "    corners = np.array(corners)\n",
    "    \n",
    "    corners_lon_lat = np.array([(np.arctan2(x_ / R, y_ / R),\n",
    "                                 np.arcsin(z_ / R)) for x_, y_, z_ in corners])\n",
    "\n",
    "    # now work out halfspace\n",
    "\n",
    "    # these are the edge segmentsin lon/lat space\n",
    "    supports = [corners_lon_lat[0]-corners_lon_lat[1],\n",
    "                corners_lon_lat[0]-corners_lon_lat[2],\n",
    "                corners_lon_lat[1]-corners_lon_lat[3],\n",
    "                corners_lon_lat[2]-corners_lon_lat[3]] \n",
    "\n",
    "    # normals to each edge segment\n",
    "    normals = np.array([(s[1],-s[0]) for s in supports])\n",
    "    pts = [corners_lon_lat[0],   # a point within each edge\n",
    "           corners_lon_lat[0],\n",
    "           corners_lon_lat[1],\n",
    "           corners_lon_lat[3]]\n",
    "    bdry_values = np.array([np.sum(n * p) for n, p in zip(normals, pts)])\n",
    "    center_values = [np.sum(n * [center_lon, center_lat]) for n in normals]\n",
    "    center_signs = np.sign(center_values - bdry_values)\n",
    "\n",
    "    def _check(normals, center_signs, bdry_values, lon_lat_vals):\n",
    "        normal_mul = np.asarray(lon_lat_vals).dot(normals.T)\n",
    "        values_ = normal_mul - bdry_values[None,:]\n",
    "        signs_ = np.sign(values_) * center_signs[None,:]\n",
    "        return np.squeeze(np.all(signs_ == 1, 1))\n",
    "\n",
    "    _check = functools.partial(_check, normals, center_signs, bdry_values)\n",
    "        \n",
    "    return corners_lon_lat, _check, normals, bdry_values, center_signs\n"
   ]
  },
  {
   "cell_type": "markdown",
   "metadata": {},
   "source": [
    "## All scenes containing Boulder"
   ]
  },
  {
   "cell_type": "code",
   "execution_count": 21,
   "metadata": {},
   "outputs": [
    {
     "data": {
      "text/plain": [
       "(-1.8373081035744305, 0.6981317007977318)"
      ]
     },
     "execution_count": 21,
     "metadata": {},
     "output_type": "execute_result"
    },
    {
     "data": {
      "image/png": "[encoded data removed]",
      "text/plain": [
       "<Figure size 432x288 with 1 Axes>"
      ]
     },
     "metadata": {
      "needs_background": "light"
     },
     "output_type": "display_data"
    }
   ],
   "source": [
    "for i, scene in enumerate(boulder_scenes):\n",
    "    lon, lat = scene\n",
    "    corners, contains, normals, bdry_values, center_signs = representation(lon, \n",
    "                                                                           lat,\n",
    "                                                                           -theta*360/(2*np.pi))\n",
    "    \n",
    "    if contains([boulder_lon, boulder_lat]):\n",
    "        plt.scatter(corners[:,0], corners[:,1], label='Scene %d' % i)\n",
    "    \n",
    "plt.scatter([boulder_lon], [boulder_lat], marker='+', label='Boulder', s=100)\n",
    "plt.legend()\n",
    "    \n",
    "boulder_lon, boulder_lat"
   ]
  },
  {
   "cell_type": "markdown",
   "metadata": {},
   "source": [
    "### What needs to be stored\n",
    "\n",
    "- We need to store `normals`, `bdry_values` and `center_signs` for each scene."
   ]
  },
  {
   "cell_type": "markdown",
   "metadata": {},
   "source": [
    "### How `contains` is determined\n",
    "\n",
    "- Function can check several query points at once....\n"
   ]
  },
  {
   "cell_type": "code",
   "execution_count": 22,
   "metadata": {},
   "outputs": [],
   "source": [
    "def _check(normals, center_signs, bdry_values, lon_lat_vals):\n",
    "    normal_mul = np.asarray(lon_lat_vals).dot(normals.T)\n",
    "    values_ = normal_mul - bdry_values[None,:]\n",
    "    signs_ = np.sign(values_) * center_signs[None,:]\n",
    "    return np.squeeze(np.all(signs_ == 1, 1))\n",
    "import functools\n",
    "\n",
    "contains = functools.partial(_check, normals, center_signs, bdry_values)"
   ]
  },
  {
   "cell_type": "markdown",
   "metadata": {},
   "source": [
    "### Scenes not containing Boulder"
   ]
  },
  {
   "cell_type": "code",
   "execution_count": 23,
   "metadata": {},
   "outputs": [
    {
     "data": {
      "text/plain": [
       "(-1.8373081035744305, 0.6981317007977318)"
      ]
     },
     "execution_count": 23,
     "metadata": {},
     "output_type": "execute_result"
    },
    {
     "data": {
      "image/png": "[encoded data removed]",
      "text/plain": [
       "<Figure size 432x288 with 1 Axes>"
      ]
     },
     "metadata": {
      "needs_background": "light"
     },
     "output_type": "display_data"
    },
    {
     "data": {
      "image/png": "[encoded data removed]",
      "text/plain": [
       "<Figure size 432x288 with 1 Axes>"
      ]
     },
     "metadata": {
      "needs_background": "light"
     },
     "output_type": "display_data"
    },
    {
     "data": {
      "image/png": "[encoded data removed]",
      "text/plain": [
       "<Figure size 432x288 with 1 Axes>"
      ]
     },
     "metadata": {
      "needs_background": "light"
     },
     "output_type": "display_data"
    },
    {
     "data": {
      "image/png": "[encoded data removed]",
      "text/plain": [
       "<Figure size 432x288 with 1 Axes>"
      ]
     },
     "metadata": {
      "needs_background": "light"
     },
     "output_type": "display_data"
    },
    {
     "data": {
      "image/png": "[encoded data removed]",
      "text/plain": [
       "<Figure size 432x288 with 1 Axes>"
      ]
     },
     "metadata": {
      "needs_background": "light"
     },
     "output_type": "display_data"
    }
   ],
   "source": [
    "for i, scene in enumerate(boulder_scenes):\n",
    "    lon, lat = scene\n",
    "    corners, contains, normals, bdry_values, center_signs = representation(lon, \n",
    "                                                                           lat,\n",
    "                                                                           -theta*360/(2*np.pi))\n",
    "    \n",
    "    if not contains([boulder_lon, boulder_lat]):\n",
    "        plt.figure()\n",
    "        plt.scatter(corners[:,0], corners[:,1], label='Scene %d' % i)\n",
    "        plt.scatter([boulder_lon], [boulder_lat], marker='+', label='Boulder', s=100)\n",
    "        plt.legend()\n",
    "    \n",
    "boulder_lon, boulder_lat"
   ]
  },
  {
   "cell_type": "code",
   "execution_count": null,
   "metadata": {},
   "outputs": [],
   "source": []
  }
 ],
 "metadata": {
  "jupytext": {
   "cell_metadata_filter": "all,-slideshow"
  },
  "kernelspec": {
   "display_name": "Python 3",
   "language": "python",
   "name": "python3"
  },
  "language_info": {
   "codemirror_mode": {
    "name": "ipython",
    "version": 3
   },
   "file_extension": ".py",
   "mimetype": "text/x-python",
   "name": "python",
   "nbconvert_exporter": "python",
   "pygments_lexer": "ipython3",
   "version": "3.8.5"
  }
 },
 "nbformat": 4,
 "nbformat_minor": 4
}
